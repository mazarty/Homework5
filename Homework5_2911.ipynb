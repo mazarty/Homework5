{
 "cells": [
  {
   "cell_type": "code",
   "execution_count": 52,
   "metadata": {},
   "outputs": [
    {
     "name": "stdout",
     "output_type": "stream",
     "text": [
      "0 {\"user_id\": \"user_id\", \"category\": \"category\"}\n",
      "\n",
      "1 {\"user_id\": \"1840e0b9d4\", \"category\": \"Продукты\"}\n",
      "\n",
      "2 {\"user_id\": \"4e4f90fcfb\", \"category\": \"Электроника\"}\n",
      "\n",
      "3 {\"user_id\": \"afea8d72fc\", \"category\": \"Электроника\"}\n",
      "\n",
      "4 {\"user_id\": \"373a6055fe\", \"category\": \"Бытовая техника\"}\n",
      "\n",
      "5 {\"user_id\": \"9b2ab046f3\", \"category\": \"Электроника\"}\n",
      "\n",
      "6 {\"user_id\": \"9f39d307c3\", \"category\": \"Электроника\"}\n",
      "\n"
     ]
    }
   ],
   "source": [
    "#Задание 1\n",
    "#Переведите содержимое файла purchase_log.txt в словарь purchases вида: {‘1840e0b9d4’: ‘Продукты’, …}\n",
    "\n",
    "f = open ('purchase_log.txt', 'r', encoding = 'utf-8')\n",
    "\n",
    "#f.readline()\n",
    "\n",
    "#tmp = f.readlines()\n",
    "#tmp[:5]\n",
    "\n",
    "#проверяем что лежит в файле\n",
    "for i, line in enumerate(f):\n",
    "    print(i, line)\n",
    "    if i>5: break"
   ]
  },
  {
   "cell_type": "code",
   "execution_count": 49,
   "metadata": {},
   "outputs": [],
   "source": [
    "#Решение Задания 1\n",
    "import json\n",
    "\n",
    "with open ('purchase_log.txt', 'r', encoding = 'utf-8') as f:\n",
    "    dict_1 = {}\n",
    "    for i, line in enumerate(f):\n",
    "        if i>0: dict_1[json.loads(line)['user_id']] = json.loads(line)['category']\n",
    "\n",
    "#запись в формате json\n",
    "with open ('purchases.txt', 'w', encoding = 'utf-8') as f2:                \n",
    "    f2.write(json.dumps(dict_1))  \n",
    "\n",
    "#запись в строку\n",
    "with open ('purchases2.txt', 'w', encoding = 'utf-8') as f3:                \n",
    "    f3.write(str(dict_1))  "
   ]
  },
  {
   "cell_type": "code",
   "execution_count": 54,
   "metadata": {
    "scrolled": false
   },
   "outputs": [
    {
     "name": "stdout",
     "output_type": "stream",
     "text": [
      "0 user_id,source\n",
      "\n",
      "1 6450655ae8,other\n",
      "\n",
      "2 b4ea53e670,other\n",
      "\n",
      "3 0e37347152,other\n",
      "\n",
      "4 96064ae9e0,other\n",
      "\n",
      "5 e1bd168161,context\n",
      "\n",
      "6 71bcf169b4,other\n",
      "\n"
     ]
    }
   ],
   "source": [
    "#Задание 2\n",
    "#Запишите в файл funnel.csv визиты из файла visit_log.csv, в которых были покупки с указанием категории.\n",
    "#Учтите условия на данные:\n",
    "#содержимое purchase_log.txt помещается в оперативную память компьютера\n",
    "#содержимое visit_log.csv - нет; используйте только построчную обработку этого файла\n",
    "\n",
    "f_v = open ('visit_log.csv', 'r', encoding = 'utf-8')\n",
    "\n",
    "#проверяем что лежит в файле\n",
    "for i, line in enumerate(f_v):\n",
    "    print(i, line)\n",
    "    if i>5: break"
   ]
  },
  {
   "cell_type": "code",
   "execution_count": 81,
   "metadata": {},
   "outputs": [
    {
     "name": "stdout",
     "output_type": "stream",
     "text": [
      "('1840e0b9d4', 'Продукты')\n",
      "('4e4f90fcfb', 'Электроника')\n",
      "('afea8d72fc', 'Электроника')\n",
      "('373a6055fe', 'Бытовая техника')\n",
      "('9b2ab046f3', 'Электроника')\n",
      "('9f39d307c3', 'Электроника')\n",
      "('44edeffc91', 'Продукты')\n"
     ]
    }
   ],
   "source": [
    "import json\n",
    "\n",
    "with open ('purchase_log.txt', 'r', encoding = 'utf-8') as f:\n",
    "    dict_1 = {}\n",
    "    for i, line in enumerate(f):\n",
    "        if i>0: dict_1[json.loads(line)['user_id']] = json.loads(line)['category']\n",
    "\n",
    "for i, item in enumerate(dict_1.items()):\n",
    "    print(item)\n",
    "    if i>5: break\n",
    "                    "
   ]
  },
  {
   "cell_type": "code",
   "execution_count": 98,
   "metadata": {},
   "outputs": [],
   "source": [
    "#Решение Задания 2\n",
    "import json\n",
    "\n",
    "#открываем файл и пишем с словарь dict_1\n",
    "with open ('purchase_log.txt', 'r', encoding = 'utf-8') as f:\n",
    "    dict_1 = {}\n",
    "    for i, line in enumerate(f):\n",
    "        if i>0: dict_1[json.loads(line)['user_id']] = json.loads(line)['category']\n",
    "            \n",
    "with open ('visit_log.csv', 'r', encoding = 'utf-8') as f_v:\n",
    "    with open ('funnel.csv', 'w') as f_fun:\n",
    "        for i, line in enumerate(f_v):\n",
    "            if i==0:\n",
    "                f_fun.write(line.strip()+','+'category\\n')  #заголовки              \n",
    "            catg = dict_1.get(line.strip().split(',')[0], 'NoN') \n",
    "            if catg != 'NoN' and i>0:\n",
    "                f_fun.write(line.strip()+','+catg+'\\n') #пишем в файл funnel.cs\n",
    "\n"
   ]
  }
 ],
 "metadata": {
  "kernelspec": {
   "display_name": "Python 3",
   "language": "python",
   "name": "python3"
  },
  "language_info": {
   "codemirror_mode": {
    "name": "ipython",
    "version": 3
   },
   "file_extension": ".py",
   "mimetype": "text/x-python",
   "name": "python",
   "nbconvert_exporter": "python",
   "pygments_lexer": "ipython3",
   "version": "3.8.3"
  }
 },
 "nbformat": 4,
 "nbformat_minor": 4
}
